{
  "nbformat": 4,
  "nbformat_minor": 0,
  "metadata": {
    "kernelspec": {
      "display_name": "Python 3",
      "language": "python",
      "name": "python3"
    },
    "language_info": {
      "codemirror_mode": {
        "name": "ipython",
        "version": 3
      },
      "file_extension": ".py",
      "mimetype": "text/x-python",
      "name": "python",
      "nbconvert_exporter": "python",
      "pygments_lexer": "ipython3",
      "version": "3.7.3"
    },
    "colab": {
      "name": " 05Credit Card Fraud Detection assignment - Copy.ipynb",
      "provenance": [],
      "collapsed_sections": []
    }
  },
  "cells": [
    {
      "cell_type": "markdown",
      "metadata": {
        "id": "Z7Eemms_T-PC"
      },
      "source": [
        "# Credit Card Fraud Detection::"
      ]
    },
    {
      "cell_type": "markdown",
      "metadata": {
        "id": "bBV1wP5ZT-PJ"
      },
      "source": [
        "Download dataset from this link:\n",
        "\n",
        "https://www.kaggle.com/mlg-ulb/creditcardfraud"
      ]
    },
    {
      "cell_type": "markdown",
      "metadata": {
        "id": "OlKitUiZT-PJ"
      },
      "source": [
        "# Description about dataset::"
      ]
    },
    {
      "cell_type": "markdown",
      "metadata": {
        "id": "N44f4ZRKT-PK"
      },
      "source": [
        "The datasets contains transactions made by credit cards in September 2013 by european cardholders.\n",
        "This dataset presents transactions that occurred in two days, where we have 492 frauds out of 284,807 transactions. The dataset is highly unbalanced, the positive class (frauds) account for 0.172% of all transactions.\n",
        "\n",
        "It contains only numerical input variables which are the result of a PCA transformation. Unfortunately, due to confidentiality issues, we cannot provide the original features and more background information about the data. Features V1, V2, … V28 are the principal components obtained with PCA, the only features which have not been transformed with PCA are 'Time' and 'Amount'. Feature 'Time' contains the seconds elapsed between each transaction and the first transaction in the dataset. The feature 'Amount' is the transaction Amount, this feature can be used for example-dependant cost-senstive learning. \n",
        "\n",
        "\n",
        "### Feature 'Class' is the response variable and it takes value 1 in case of fraud and 0 otherwise."
      ]
    },
    {
      "cell_type": "markdown",
      "metadata": {
        "id": "UgcxgCeUT-PK"
      },
      "source": [
        "# WORKFLOW :"
      ]
    },
    {
      "cell_type": "markdown",
      "metadata": {
        "id": "0qQC9n98T-PL"
      },
      "source": [
        "1.Load Data\n",
        "\n",
        "2.Check Missing Values ( If Exist ; Fill each record with mean of its feature )\n",
        "\n",
        "3.Standardized the Input Variables. \n",
        "\n",
        "4.Split into 50% Training(Samples,Labels) , 30% Test(Samples,Labels) and 20% Validation Data(Samples,Labels).\n",
        "\n",
        "5.Model : input Layer (No. of features ), 3 hidden layers including 10,8,6 unit & Output Layer with activation function relu/tanh (check by experiment).\n",
        "\n",
        "6.Compilation Step (Note : Its a Binary problem , select loss , metrics according to it)\n",
        "\n",
        "7.Train the Model with Epochs (100).\n",
        "\n",
        "8.If the model gets overfit tune your model by changing the units , No. of layers , epochs , add dropout layer or add Regularizer according to the need .\n",
        "\n",
        "9.Prediction should be > 92%\n",
        "10.Evaluation Step\n",
        "11Prediction\n"
      ]
    },
    {
      "cell_type": "markdown",
      "metadata": {
        "id": "O_lUIU5-T-PL"
      },
      "source": [
        "# Task::"
      ]
    },
    {
      "cell_type": "markdown",
      "metadata": {
        "id": "BRJBL87_T-PL"
      },
      "source": [
        "## Identify fraudulent credit card transactions."
      ]
    },
    {
      "cell_type": "code",
      "metadata": {
        "id": "c5z1RwYAT-PM"
      },
      "source": [
        "import tensorflow as tf \n",
        "import numpy as np\n",
        "import pandas as pd\n",
        "import matplotlib.pyplot as plt\n",
        "import random"
      ],
      "execution_count": 5,
      "outputs": []
    },
    {
      "cell_type": "code",
      "metadata": {
        "id": "fkCit3hgQGgH"
      },
      "source": [
        "import gc\n",
        "from datetime import datetime \n",
        "from sklearn.model_selection import train_test_split\n",
        "from sklearn.model_selection import KFold\n",
        "from sklearn.metrics import roc_auc_score\n",
        "from sklearn.ensemble import RandomForestClassifier\n",
        "from sklearn.ensemble import AdaBoostClassifier\n",
        "from sklearn import svm\n",
        "import lightgbm as lgb\n",
        "from lightgbm import LGBMClassifier\n",
        "import xgboost as xgb"
      ],
      "execution_count": 2,
      "outputs": []
    },
    {
      "cell_type": "code",
      "metadata": {
        "colab": {
          "base_uri": "https://localhost:8080/",
          "height": 323
        },
        "id": "d-K7Gx9H19dd",
        "outputId": "5369ad99-0b6b-4907-8830-d5a3f7617d9b"
      },
      "source": [
        "!pip install -U scikit-learn #upgraded"
      ],
      "execution_count": 3,
      "outputs": [
        {
          "output_type": "stream",
          "text": [
            "Collecting scikit-learn\n",
            "\u001b[?25l  Downloading https://files.pythonhosted.org/packages/f3/74/eb899f41d55f957e2591cde5528e75871f817d9fb46d4732423ecaca736d/scikit_learn-0.24.1-cp37-cp37m-manylinux2010_x86_64.whl (22.3MB)\n",
            "\u001b[K     |████████████████████████████████| 22.3MB 35.6MB/s \n",
            "\u001b[?25hRequirement already satisfied, skipping upgrade: numpy>=1.13.3 in /usr/local/lib/python3.7/dist-packages (from scikit-learn) (1.19.5)\n",
            "Requirement already satisfied, skipping upgrade: scipy>=0.19.1 in /usr/local/lib/python3.7/dist-packages (from scikit-learn) (1.4.1)\n",
            "Collecting threadpoolctl>=2.0.0\n",
            "  Downloading https://files.pythonhosted.org/packages/f7/12/ec3f2e203afa394a149911729357aa48affc59c20e2c1c8297a60f33f133/threadpoolctl-2.1.0-py3-none-any.whl\n",
            "Requirement already satisfied, skipping upgrade: joblib>=0.11 in /usr/local/lib/python3.7/dist-packages (from scikit-learn) (1.0.1)\n",
            "Installing collected packages: threadpoolctl, scikit-learn\n",
            "  Found existing installation: scikit-learn 0.22.2.post1\n",
            "    Uninstalling scikit-learn-0.22.2.post1:\n",
            "      Successfully uninstalled scikit-learn-0.22.2.post1\n",
            "Successfully installed scikit-learn-0.24.1 threadpoolctl-2.1.0\n"
          ],
          "name": "stdout"
        },
        {
          "output_type": "display_data",
          "data": {
            "application/vnd.colab-display-data+json": {
              "pip_warning": {
                "packages": [
                  "sklearn"
                ]
              }
            }
          },
          "metadata": {
            "tags": []
          }
        }
      ]
    },
    {
      "cell_type": "code",
      "metadata": {
        "colab": {
          "base_uri": "https://localhost:8080/"
        },
        "id": "4_fSCDZzT-PM",
        "outputId": "fde0c077-a54a-4fa1-b83d-9400a81d05c5"
      },
      "source": [
        "from google.colab import drive\n",
        "drive.mount ('/content/drive')"
      ],
      "execution_count": 1,
      "outputs": [
        {
          "output_type": "stream",
          "text": [
            "Mounted at /content/drive\n"
          ],
          "name": "stdout"
        }
      ]
    },
    {
      "cell_type": "code",
      "metadata": {
        "id": "mrepbql7T-PM"
      },
      "source": [
        "creditcard = pd.read_csv('/content/drive/My Drive/Colab Notebooks/Q2Assignments/creditcard.csv')"
      ],
      "execution_count": 6,
      "outputs": []
    },
    {
      "cell_type": "code",
      "metadata": {
        "colab": {
          "base_uri": "https://localhost:8080/",
          "height": 224
        },
        "id": "iHD8JPbx-vZw",
        "outputId": "998c8149-bf1a-4e76-e9d8-3c0b0bb999d4"
      },
      "source": [
        "creditcard.head(5)"
      ],
      "execution_count": 7,
      "outputs": [
        {
          "output_type": "execute_result",
          "data": {
            "text/html": [
              "<div>\n",
              "<style scoped>\n",
              "    .dataframe tbody tr th:only-of-type {\n",
              "        vertical-align: middle;\n",
              "    }\n",
              "\n",
              "    .dataframe tbody tr th {\n",
              "        vertical-align: top;\n",
              "    }\n",
              "\n",
              "    .dataframe thead th {\n",
              "        text-align: right;\n",
              "    }\n",
              "</style>\n",
              "<table border=\"1\" class=\"dataframe\">\n",
              "  <thead>\n",
              "    <tr style=\"text-align: right;\">\n",
              "      <th></th>\n",
              "      <th>Time</th>\n",
              "      <th>V1</th>\n",
              "      <th>V2</th>\n",
              "      <th>V3</th>\n",
              "      <th>V4</th>\n",
              "      <th>V5</th>\n",
              "      <th>V6</th>\n",
              "      <th>V7</th>\n",
              "      <th>V8</th>\n",
              "      <th>V9</th>\n",
              "      <th>V10</th>\n",
              "      <th>V11</th>\n",
              "      <th>V12</th>\n",
              "      <th>V13</th>\n",
              "      <th>V14</th>\n",
              "      <th>V15</th>\n",
              "      <th>V16</th>\n",
              "      <th>V17</th>\n",
              "      <th>V18</th>\n",
              "      <th>V19</th>\n",
              "      <th>V20</th>\n",
              "      <th>V21</th>\n",
              "      <th>V22</th>\n",
              "      <th>V23</th>\n",
              "      <th>V24</th>\n",
              "      <th>V25</th>\n",
              "      <th>V26</th>\n",
              "      <th>V27</th>\n",
              "      <th>V28</th>\n",
              "      <th>Amount</th>\n",
              "      <th>Class</th>\n",
              "    </tr>\n",
              "  </thead>\n",
              "  <tbody>\n",
              "    <tr>\n",
              "      <th>0</th>\n",
              "      <td>0.0</td>\n",
              "      <td>-1.359807</td>\n",
              "      <td>-0.072781</td>\n",
              "      <td>2.536347</td>\n",
              "      <td>1.378155</td>\n",
              "      <td>-0.338321</td>\n",
              "      <td>0.462388</td>\n",
              "      <td>0.239599</td>\n",
              "      <td>0.098698</td>\n",
              "      <td>0.363787</td>\n",
              "      <td>0.090794</td>\n",
              "      <td>-0.551600</td>\n",
              "      <td>-0.617801</td>\n",
              "      <td>-0.991390</td>\n",
              "      <td>-0.311169</td>\n",
              "      <td>1.468177</td>\n",
              "      <td>-0.470401</td>\n",
              "      <td>0.207971</td>\n",
              "      <td>0.025791</td>\n",
              "      <td>0.403993</td>\n",
              "      <td>0.251412</td>\n",
              "      <td>-0.018307</td>\n",
              "      <td>0.277838</td>\n",
              "      <td>-0.110474</td>\n",
              "      <td>0.066928</td>\n",
              "      <td>0.128539</td>\n",
              "      <td>-0.189115</td>\n",
              "      <td>0.133558</td>\n",
              "      <td>-0.021053</td>\n",
              "      <td>149.62</td>\n",
              "      <td>0</td>\n",
              "    </tr>\n",
              "    <tr>\n",
              "      <th>1</th>\n",
              "      <td>0.0</td>\n",
              "      <td>1.191857</td>\n",
              "      <td>0.266151</td>\n",
              "      <td>0.166480</td>\n",
              "      <td>0.448154</td>\n",
              "      <td>0.060018</td>\n",
              "      <td>-0.082361</td>\n",
              "      <td>-0.078803</td>\n",
              "      <td>0.085102</td>\n",
              "      <td>-0.255425</td>\n",
              "      <td>-0.166974</td>\n",
              "      <td>1.612727</td>\n",
              "      <td>1.065235</td>\n",
              "      <td>0.489095</td>\n",
              "      <td>-0.143772</td>\n",
              "      <td>0.635558</td>\n",
              "      <td>0.463917</td>\n",
              "      <td>-0.114805</td>\n",
              "      <td>-0.183361</td>\n",
              "      <td>-0.145783</td>\n",
              "      <td>-0.069083</td>\n",
              "      <td>-0.225775</td>\n",
              "      <td>-0.638672</td>\n",
              "      <td>0.101288</td>\n",
              "      <td>-0.339846</td>\n",
              "      <td>0.167170</td>\n",
              "      <td>0.125895</td>\n",
              "      <td>-0.008983</td>\n",
              "      <td>0.014724</td>\n",
              "      <td>2.69</td>\n",
              "      <td>0</td>\n",
              "    </tr>\n",
              "    <tr>\n",
              "      <th>2</th>\n",
              "      <td>1.0</td>\n",
              "      <td>-1.358354</td>\n",
              "      <td>-1.340163</td>\n",
              "      <td>1.773209</td>\n",
              "      <td>0.379780</td>\n",
              "      <td>-0.503198</td>\n",
              "      <td>1.800499</td>\n",
              "      <td>0.791461</td>\n",
              "      <td>0.247676</td>\n",
              "      <td>-1.514654</td>\n",
              "      <td>0.207643</td>\n",
              "      <td>0.624501</td>\n",
              "      <td>0.066084</td>\n",
              "      <td>0.717293</td>\n",
              "      <td>-0.165946</td>\n",
              "      <td>2.345865</td>\n",
              "      <td>-2.890083</td>\n",
              "      <td>1.109969</td>\n",
              "      <td>-0.121359</td>\n",
              "      <td>-2.261857</td>\n",
              "      <td>0.524980</td>\n",
              "      <td>0.247998</td>\n",
              "      <td>0.771679</td>\n",
              "      <td>0.909412</td>\n",
              "      <td>-0.689281</td>\n",
              "      <td>-0.327642</td>\n",
              "      <td>-0.139097</td>\n",
              "      <td>-0.055353</td>\n",
              "      <td>-0.059752</td>\n",
              "      <td>378.66</td>\n",
              "      <td>0</td>\n",
              "    </tr>\n",
              "    <tr>\n",
              "      <th>3</th>\n",
              "      <td>1.0</td>\n",
              "      <td>-0.966272</td>\n",
              "      <td>-0.185226</td>\n",
              "      <td>1.792993</td>\n",
              "      <td>-0.863291</td>\n",
              "      <td>-0.010309</td>\n",
              "      <td>1.247203</td>\n",
              "      <td>0.237609</td>\n",
              "      <td>0.377436</td>\n",
              "      <td>-1.387024</td>\n",
              "      <td>-0.054952</td>\n",
              "      <td>-0.226487</td>\n",
              "      <td>0.178228</td>\n",
              "      <td>0.507757</td>\n",
              "      <td>-0.287924</td>\n",
              "      <td>-0.631418</td>\n",
              "      <td>-1.059647</td>\n",
              "      <td>-0.684093</td>\n",
              "      <td>1.965775</td>\n",
              "      <td>-1.232622</td>\n",
              "      <td>-0.208038</td>\n",
              "      <td>-0.108300</td>\n",
              "      <td>0.005274</td>\n",
              "      <td>-0.190321</td>\n",
              "      <td>-1.175575</td>\n",
              "      <td>0.647376</td>\n",
              "      <td>-0.221929</td>\n",
              "      <td>0.062723</td>\n",
              "      <td>0.061458</td>\n",
              "      <td>123.50</td>\n",
              "      <td>0</td>\n",
              "    </tr>\n",
              "    <tr>\n",
              "      <th>4</th>\n",
              "      <td>2.0</td>\n",
              "      <td>-1.158233</td>\n",
              "      <td>0.877737</td>\n",
              "      <td>1.548718</td>\n",
              "      <td>0.403034</td>\n",
              "      <td>-0.407193</td>\n",
              "      <td>0.095921</td>\n",
              "      <td>0.592941</td>\n",
              "      <td>-0.270533</td>\n",
              "      <td>0.817739</td>\n",
              "      <td>0.753074</td>\n",
              "      <td>-0.822843</td>\n",
              "      <td>0.538196</td>\n",
              "      <td>1.345852</td>\n",
              "      <td>-1.119670</td>\n",
              "      <td>0.175121</td>\n",
              "      <td>-0.451449</td>\n",
              "      <td>-0.237033</td>\n",
              "      <td>-0.038195</td>\n",
              "      <td>0.803487</td>\n",
              "      <td>0.408542</td>\n",
              "      <td>-0.009431</td>\n",
              "      <td>0.798278</td>\n",
              "      <td>-0.137458</td>\n",
              "      <td>0.141267</td>\n",
              "      <td>-0.206010</td>\n",
              "      <td>0.502292</td>\n",
              "      <td>0.219422</td>\n",
              "      <td>0.215153</td>\n",
              "      <td>69.99</td>\n",
              "      <td>0</td>\n",
              "    </tr>\n",
              "  </tbody>\n",
              "</table>\n",
              "</div>"
            ],
            "text/plain": [
              "   Time        V1        V2        V3  ...       V27       V28  Amount  Class\n",
              "0   0.0 -1.359807 -0.072781  2.536347  ...  0.133558 -0.021053  149.62      0\n",
              "1   0.0  1.191857  0.266151  0.166480  ... -0.008983  0.014724    2.69      0\n",
              "2   1.0 -1.358354 -1.340163  1.773209  ... -0.055353 -0.059752  378.66      0\n",
              "3   1.0 -0.966272 -0.185226  1.792993  ...  0.062723  0.061458  123.50      0\n",
              "4   2.0 -1.158233  0.877737  1.548718  ...  0.219422  0.215153   69.99      0\n",
              "\n",
              "[5 rows x 31 columns]"
            ]
          },
          "metadata": {
            "tags": []
          },
          "execution_count": 7
        }
      ]
    },
    {
      "cell_type": "code",
      "metadata": {
        "colab": {
          "base_uri": "https://localhost:8080/"
        },
        "id": "5rgtly6EdKIK",
        "outputId": "74484f8f-0de9-4871-c122-509b7be8f610"
      },
      "source": [
        "creditcard.info"
      ],
      "execution_count": 8,
      "outputs": [
        {
          "output_type": "execute_result",
          "data": {
            "text/plain": [
              "<bound method DataFrame.info of             Time         V1         V2  ...       V28  Amount  Class\n",
              "0            0.0  -1.359807  -0.072781  ... -0.021053  149.62      0\n",
              "1            0.0   1.191857   0.266151  ...  0.014724    2.69      0\n",
              "2            1.0  -1.358354  -1.340163  ... -0.059752  378.66      0\n",
              "3            1.0  -0.966272  -0.185226  ...  0.061458  123.50      0\n",
              "4            2.0  -1.158233   0.877737  ...  0.215153   69.99      0\n",
              "...          ...        ...        ...  ...       ...     ...    ...\n",
              "284802  172786.0 -11.881118  10.071785  ...  0.823731    0.77      0\n",
              "284803  172787.0  -0.732789  -0.055080  ... -0.053527   24.79      0\n",
              "284804  172788.0   1.919565  -0.301254  ... -0.026561   67.88      0\n",
              "284805  172788.0  -0.240440   0.530483  ...  0.104533   10.00      0\n",
              "284806  172792.0  -0.533413  -0.189733  ...  0.013649  217.00      0\n",
              "\n",
              "[284807 rows x 31 columns]>"
            ]
          },
          "metadata": {
            "tags": []
          },
          "execution_count": 8
        }
      ]
    },
    {
      "cell_type": "code",
      "metadata": {
        "colab": {
          "base_uri": "https://localhost:8080/",
          "height": 317
        },
        "id": "ZamfidISmHH9",
        "outputId": "8e7155a0-4690-43f6-afef-f2dedd99c6a1"
      },
      "source": [
        "creditcard.describe()"
      ],
      "execution_count": 9,
      "outputs": [
        {
          "output_type": "execute_result",
          "data": {
            "text/html": [
              "<div>\n",
              "<style scoped>\n",
              "    .dataframe tbody tr th:only-of-type {\n",
              "        vertical-align: middle;\n",
              "    }\n",
              "\n",
              "    .dataframe tbody tr th {\n",
              "        vertical-align: top;\n",
              "    }\n",
              "\n",
              "    .dataframe thead th {\n",
              "        text-align: right;\n",
              "    }\n",
              "</style>\n",
              "<table border=\"1\" class=\"dataframe\">\n",
              "  <thead>\n",
              "    <tr style=\"text-align: right;\">\n",
              "      <th></th>\n",
              "      <th>Time</th>\n",
              "      <th>V1</th>\n",
              "      <th>V2</th>\n",
              "      <th>V3</th>\n",
              "      <th>V4</th>\n",
              "      <th>V5</th>\n",
              "      <th>V6</th>\n",
              "      <th>V7</th>\n",
              "      <th>V8</th>\n",
              "      <th>V9</th>\n",
              "      <th>V10</th>\n",
              "      <th>V11</th>\n",
              "      <th>V12</th>\n",
              "      <th>V13</th>\n",
              "      <th>V14</th>\n",
              "      <th>V15</th>\n",
              "      <th>V16</th>\n",
              "      <th>V17</th>\n",
              "      <th>V18</th>\n",
              "      <th>V19</th>\n",
              "      <th>V20</th>\n",
              "      <th>V21</th>\n",
              "      <th>V22</th>\n",
              "      <th>V23</th>\n",
              "      <th>V24</th>\n",
              "      <th>V25</th>\n",
              "      <th>V26</th>\n",
              "      <th>V27</th>\n",
              "      <th>V28</th>\n",
              "      <th>Amount</th>\n",
              "      <th>Class</th>\n",
              "    </tr>\n",
              "  </thead>\n",
              "  <tbody>\n",
              "    <tr>\n",
              "      <th>count</th>\n",
              "      <td>284807.000000</td>\n",
              "      <td>2.848070e+05</td>\n",
              "      <td>2.848070e+05</td>\n",
              "      <td>2.848070e+05</td>\n",
              "      <td>2.848070e+05</td>\n",
              "      <td>2.848070e+05</td>\n",
              "      <td>2.848070e+05</td>\n",
              "      <td>2.848070e+05</td>\n",
              "      <td>2.848070e+05</td>\n",
              "      <td>2.848070e+05</td>\n",
              "      <td>2.848070e+05</td>\n",
              "      <td>2.848070e+05</td>\n",
              "      <td>2.848070e+05</td>\n",
              "      <td>2.848070e+05</td>\n",
              "      <td>2.848070e+05</td>\n",
              "      <td>2.848070e+05</td>\n",
              "      <td>2.848070e+05</td>\n",
              "      <td>2.848070e+05</td>\n",
              "      <td>2.848070e+05</td>\n",
              "      <td>2.848070e+05</td>\n",
              "      <td>2.848070e+05</td>\n",
              "      <td>2.848070e+05</td>\n",
              "      <td>2.848070e+05</td>\n",
              "      <td>2.848070e+05</td>\n",
              "      <td>2.848070e+05</td>\n",
              "      <td>2.848070e+05</td>\n",
              "      <td>2.848070e+05</td>\n",
              "      <td>2.848070e+05</td>\n",
              "      <td>2.848070e+05</td>\n",
              "      <td>284807.000000</td>\n",
              "      <td>284807.000000</td>\n",
              "    </tr>\n",
              "    <tr>\n",
              "      <th>mean</th>\n",
              "      <td>94813.859575</td>\n",
              "      <td>3.919560e-15</td>\n",
              "      <td>5.688174e-16</td>\n",
              "      <td>-8.769071e-15</td>\n",
              "      <td>2.782312e-15</td>\n",
              "      <td>-1.552563e-15</td>\n",
              "      <td>2.010663e-15</td>\n",
              "      <td>-1.694249e-15</td>\n",
              "      <td>-1.927028e-16</td>\n",
              "      <td>-3.137024e-15</td>\n",
              "      <td>1.768627e-15</td>\n",
              "      <td>9.170318e-16</td>\n",
              "      <td>-1.810658e-15</td>\n",
              "      <td>1.693438e-15</td>\n",
              "      <td>1.479045e-15</td>\n",
              "      <td>3.482336e-15</td>\n",
              "      <td>1.392007e-15</td>\n",
              "      <td>-7.528491e-16</td>\n",
              "      <td>4.328772e-16</td>\n",
              "      <td>9.049732e-16</td>\n",
              "      <td>5.085503e-16</td>\n",
              "      <td>1.537294e-16</td>\n",
              "      <td>7.959909e-16</td>\n",
              "      <td>5.367590e-16</td>\n",
              "      <td>4.458112e-15</td>\n",
              "      <td>1.453003e-15</td>\n",
              "      <td>1.699104e-15</td>\n",
              "      <td>-3.660161e-16</td>\n",
              "      <td>-1.206049e-16</td>\n",
              "      <td>88.349619</td>\n",
              "      <td>0.001727</td>\n",
              "    </tr>\n",
              "    <tr>\n",
              "      <th>std</th>\n",
              "      <td>47488.145955</td>\n",
              "      <td>1.958696e+00</td>\n",
              "      <td>1.651309e+00</td>\n",
              "      <td>1.516255e+00</td>\n",
              "      <td>1.415869e+00</td>\n",
              "      <td>1.380247e+00</td>\n",
              "      <td>1.332271e+00</td>\n",
              "      <td>1.237094e+00</td>\n",
              "      <td>1.194353e+00</td>\n",
              "      <td>1.098632e+00</td>\n",
              "      <td>1.088850e+00</td>\n",
              "      <td>1.020713e+00</td>\n",
              "      <td>9.992014e-01</td>\n",
              "      <td>9.952742e-01</td>\n",
              "      <td>9.585956e-01</td>\n",
              "      <td>9.153160e-01</td>\n",
              "      <td>8.762529e-01</td>\n",
              "      <td>8.493371e-01</td>\n",
              "      <td>8.381762e-01</td>\n",
              "      <td>8.140405e-01</td>\n",
              "      <td>7.709250e-01</td>\n",
              "      <td>7.345240e-01</td>\n",
              "      <td>7.257016e-01</td>\n",
              "      <td>6.244603e-01</td>\n",
              "      <td>6.056471e-01</td>\n",
              "      <td>5.212781e-01</td>\n",
              "      <td>4.822270e-01</td>\n",
              "      <td>4.036325e-01</td>\n",
              "      <td>3.300833e-01</td>\n",
              "      <td>250.120109</td>\n",
              "      <td>0.041527</td>\n",
              "    </tr>\n",
              "    <tr>\n",
              "      <th>min</th>\n",
              "      <td>0.000000</td>\n",
              "      <td>-5.640751e+01</td>\n",
              "      <td>-7.271573e+01</td>\n",
              "      <td>-4.832559e+01</td>\n",
              "      <td>-5.683171e+00</td>\n",
              "      <td>-1.137433e+02</td>\n",
              "      <td>-2.616051e+01</td>\n",
              "      <td>-4.355724e+01</td>\n",
              "      <td>-7.321672e+01</td>\n",
              "      <td>-1.343407e+01</td>\n",
              "      <td>-2.458826e+01</td>\n",
              "      <td>-4.797473e+00</td>\n",
              "      <td>-1.868371e+01</td>\n",
              "      <td>-5.791881e+00</td>\n",
              "      <td>-1.921433e+01</td>\n",
              "      <td>-4.498945e+00</td>\n",
              "      <td>-1.412985e+01</td>\n",
              "      <td>-2.516280e+01</td>\n",
              "      <td>-9.498746e+00</td>\n",
              "      <td>-7.213527e+00</td>\n",
              "      <td>-5.449772e+01</td>\n",
              "      <td>-3.483038e+01</td>\n",
              "      <td>-1.093314e+01</td>\n",
              "      <td>-4.480774e+01</td>\n",
              "      <td>-2.836627e+00</td>\n",
              "      <td>-1.029540e+01</td>\n",
              "      <td>-2.604551e+00</td>\n",
              "      <td>-2.256568e+01</td>\n",
              "      <td>-1.543008e+01</td>\n",
              "      <td>0.000000</td>\n",
              "      <td>0.000000</td>\n",
              "    </tr>\n",
              "    <tr>\n",
              "      <th>25%</th>\n",
              "      <td>54201.500000</td>\n",
              "      <td>-9.203734e-01</td>\n",
              "      <td>-5.985499e-01</td>\n",
              "      <td>-8.903648e-01</td>\n",
              "      <td>-8.486401e-01</td>\n",
              "      <td>-6.915971e-01</td>\n",
              "      <td>-7.682956e-01</td>\n",
              "      <td>-5.540759e-01</td>\n",
              "      <td>-2.086297e-01</td>\n",
              "      <td>-6.430976e-01</td>\n",
              "      <td>-5.354257e-01</td>\n",
              "      <td>-7.624942e-01</td>\n",
              "      <td>-4.055715e-01</td>\n",
              "      <td>-6.485393e-01</td>\n",
              "      <td>-4.255740e-01</td>\n",
              "      <td>-5.828843e-01</td>\n",
              "      <td>-4.680368e-01</td>\n",
              "      <td>-4.837483e-01</td>\n",
              "      <td>-4.988498e-01</td>\n",
              "      <td>-4.562989e-01</td>\n",
              "      <td>-2.117214e-01</td>\n",
              "      <td>-2.283949e-01</td>\n",
              "      <td>-5.423504e-01</td>\n",
              "      <td>-1.618463e-01</td>\n",
              "      <td>-3.545861e-01</td>\n",
              "      <td>-3.171451e-01</td>\n",
              "      <td>-3.269839e-01</td>\n",
              "      <td>-7.083953e-02</td>\n",
              "      <td>-5.295979e-02</td>\n",
              "      <td>5.600000</td>\n",
              "      <td>0.000000</td>\n",
              "    </tr>\n",
              "    <tr>\n",
              "      <th>50%</th>\n",
              "      <td>84692.000000</td>\n",
              "      <td>1.810880e-02</td>\n",
              "      <td>6.548556e-02</td>\n",
              "      <td>1.798463e-01</td>\n",
              "      <td>-1.984653e-02</td>\n",
              "      <td>-5.433583e-02</td>\n",
              "      <td>-2.741871e-01</td>\n",
              "      <td>4.010308e-02</td>\n",
              "      <td>2.235804e-02</td>\n",
              "      <td>-5.142873e-02</td>\n",
              "      <td>-9.291738e-02</td>\n",
              "      <td>-3.275735e-02</td>\n",
              "      <td>1.400326e-01</td>\n",
              "      <td>-1.356806e-02</td>\n",
              "      <td>5.060132e-02</td>\n",
              "      <td>4.807155e-02</td>\n",
              "      <td>6.641332e-02</td>\n",
              "      <td>-6.567575e-02</td>\n",
              "      <td>-3.636312e-03</td>\n",
              "      <td>3.734823e-03</td>\n",
              "      <td>-6.248109e-02</td>\n",
              "      <td>-2.945017e-02</td>\n",
              "      <td>6.781943e-03</td>\n",
              "      <td>-1.119293e-02</td>\n",
              "      <td>4.097606e-02</td>\n",
              "      <td>1.659350e-02</td>\n",
              "      <td>-5.213911e-02</td>\n",
              "      <td>1.342146e-03</td>\n",
              "      <td>1.124383e-02</td>\n",
              "      <td>22.000000</td>\n",
              "      <td>0.000000</td>\n",
              "    </tr>\n",
              "    <tr>\n",
              "      <th>75%</th>\n",
              "      <td>139320.500000</td>\n",
              "      <td>1.315642e+00</td>\n",
              "      <td>8.037239e-01</td>\n",
              "      <td>1.027196e+00</td>\n",
              "      <td>7.433413e-01</td>\n",
              "      <td>6.119264e-01</td>\n",
              "      <td>3.985649e-01</td>\n",
              "      <td>5.704361e-01</td>\n",
              "      <td>3.273459e-01</td>\n",
              "      <td>5.971390e-01</td>\n",
              "      <td>4.539234e-01</td>\n",
              "      <td>7.395934e-01</td>\n",
              "      <td>6.182380e-01</td>\n",
              "      <td>6.625050e-01</td>\n",
              "      <td>4.931498e-01</td>\n",
              "      <td>6.488208e-01</td>\n",
              "      <td>5.232963e-01</td>\n",
              "      <td>3.996750e-01</td>\n",
              "      <td>5.008067e-01</td>\n",
              "      <td>4.589494e-01</td>\n",
              "      <td>1.330408e-01</td>\n",
              "      <td>1.863772e-01</td>\n",
              "      <td>5.285536e-01</td>\n",
              "      <td>1.476421e-01</td>\n",
              "      <td>4.395266e-01</td>\n",
              "      <td>3.507156e-01</td>\n",
              "      <td>2.409522e-01</td>\n",
              "      <td>9.104512e-02</td>\n",
              "      <td>7.827995e-02</td>\n",
              "      <td>77.165000</td>\n",
              "      <td>0.000000</td>\n",
              "    </tr>\n",
              "    <tr>\n",
              "      <th>max</th>\n",
              "      <td>172792.000000</td>\n",
              "      <td>2.454930e+00</td>\n",
              "      <td>2.205773e+01</td>\n",
              "      <td>9.382558e+00</td>\n",
              "      <td>1.687534e+01</td>\n",
              "      <td>3.480167e+01</td>\n",
              "      <td>7.330163e+01</td>\n",
              "      <td>1.205895e+02</td>\n",
              "      <td>2.000721e+01</td>\n",
              "      <td>1.559499e+01</td>\n",
              "      <td>2.374514e+01</td>\n",
              "      <td>1.201891e+01</td>\n",
              "      <td>7.848392e+00</td>\n",
              "      <td>7.126883e+00</td>\n",
              "      <td>1.052677e+01</td>\n",
              "      <td>8.877742e+00</td>\n",
              "      <td>1.731511e+01</td>\n",
              "      <td>9.253526e+00</td>\n",
              "      <td>5.041069e+00</td>\n",
              "      <td>5.591971e+00</td>\n",
              "      <td>3.942090e+01</td>\n",
              "      <td>2.720284e+01</td>\n",
              "      <td>1.050309e+01</td>\n",
              "      <td>2.252841e+01</td>\n",
              "      <td>4.584549e+00</td>\n",
              "      <td>7.519589e+00</td>\n",
              "      <td>3.517346e+00</td>\n",
              "      <td>3.161220e+01</td>\n",
              "      <td>3.384781e+01</td>\n",
              "      <td>25691.160000</td>\n",
              "      <td>1.000000</td>\n",
              "    </tr>\n",
              "  </tbody>\n",
              "</table>\n",
              "</div>"
            ],
            "text/plain": [
              "                Time            V1  ...         Amount          Class\n",
              "count  284807.000000  2.848070e+05  ...  284807.000000  284807.000000\n",
              "mean    94813.859575  3.919560e-15  ...      88.349619       0.001727\n",
              "std     47488.145955  1.958696e+00  ...     250.120109       0.041527\n",
              "min         0.000000 -5.640751e+01  ...       0.000000       0.000000\n",
              "25%     54201.500000 -9.203734e-01  ...       5.600000       0.000000\n",
              "50%     84692.000000  1.810880e-02  ...      22.000000       0.000000\n",
              "75%    139320.500000  1.315642e+00  ...      77.165000       0.000000\n",
              "max    172792.000000  2.454930e+00  ...   25691.160000       1.000000\n",
              "\n",
              "[8 rows x 31 columns]"
            ]
          },
          "metadata": {
            "tags": []
          },
          "execution_count": 9
        }
      ]
    },
    {
      "cell_type": "code",
      "metadata": {
        "colab": {
          "base_uri": "https://localhost:8080/"
        },
        "id": "Dq3OMFf5oe99",
        "outputId": "50ff58b7-488e-4c52-a315-a41c1d028030"
      },
      "source": [
        "creditcard.isnull().sum()"
      ],
      "execution_count": 10,
      "outputs": [
        {
          "output_type": "execute_result",
          "data": {
            "text/plain": [
              "Time      0\n",
              "V1        0\n",
              "V2        0\n",
              "V3        0\n",
              "V4        0\n",
              "V5        0\n",
              "V6        0\n",
              "V7        0\n",
              "V8        0\n",
              "V9        0\n",
              "V10       0\n",
              "V11       0\n",
              "V12       0\n",
              "V13       0\n",
              "V14       0\n",
              "V15       0\n",
              "V16       0\n",
              "V17       0\n",
              "V18       0\n",
              "V19       0\n",
              "V20       0\n",
              "V21       0\n",
              "V22       0\n",
              "V23       0\n",
              "V24       0\n",
              "V25       0\n",
              "V26       0\n",
              "V27       0\n",
              "V28       0\n",
              "Amount    0\n",
              "Class     0\n",
              "dtype: int64"
            ]
          },
          "metadata": {
            "tags": []
          },
          "execution_count": 10
        }
      ]
    },
    {
      "cell_type": "code",
      "metadata": {
        "id": "HC0Sp-sopF6s"
      },
      "source": [
        "#There is no missing data in the entire dataset."
      ],
      "execution_count": 11,
      "outputs": []
    },
    {
      "cell_type": "code",
      "metadata": {
        "id": "90xBqRzc9-gK"
      },
      "source": [
        "from sklearn.model_selection import train_test_split"
      ],
      "execution_count": 12,
      "outputs": []
    },
    {
      "cell_type": "code",
      "metadata": {
        "id": "YNqDtQeFxviJ"
      },
      "source": [
        "normal=creditcard[creditcard[\"Class\"]==0]\n",
        "fraud=creditcard[creditcard[\"Class\"]==1]"
      ],
      "execution_count": 13,
      "outputs": []
    },
    {
      "cell_type": "code",
      "metadata": {
        "id": "o-u9Sx8L9dOc"
      },
      "source": [
        "data=creditcard.iloc[:,:-1]\n",
        "labels=creditcard[\"Class\"]"
      ],
      "execution_count": 14,
      "outputs": []
    },
    {
      "cell_type": "code",
      "metadata": {
        "id": "lNqv4bWotnRg"
      },
      "source": [
        "train_data, test_data, train_labels, test_labels = train_test_split(data,labels, test_size = 0.3)"
      ],
      "execution_count": 15,
      "outputs": []
    },
    {
      "cell_type": "code",
      "metadata": {
        "id": "CLgXy7iAvFrR"
      },
      "source": [
        "mean = train_data.mean(axis=0)\n",
        "train_data -= mean\n",
        "std = train_data.std(axis=0)\n",
        "train_data /= std\n",
        "test_data -= mean\n",
        "test_data /= std"
      ],
      "execution_count": 16,
      "outputs": []
    },
    {
      "cell_type": "code",
      "metadata": {
        "id": "QbPe5SViT-PP"
      },
      "source": [
        "from tensorflow.keras import models\n",
        "from tensorflow.keras import layers\n",
        "model=models.Sequential()\n",
        "model.add(layers.Dense(20,activation='relu',input_shape=(train_data.shape[1],)))\n",
        "model.add(layers.Dense(10,activation='relu'))\n",
        "model.add(layers.Dense(8,activation='relu'))\n",
        "model.add(layers.Dense(6,activation='relu'))\n",
        "model.add(layers.Dense(1,activation='sigmoid'))"
      ],
      "execution_count": 18,
      "outputs": []
    },
    {
      "cell_type": "code",
      "metadata": {
        "id": "p3cSr3REhvCF"
      },
      "source": [
        "model.compile(loss='binary_crossentropy',optimizer='rmsprop',metrics=['accuracy'])"
      ],
      "execution_count": 19,
      "outputs": []
    },
    {
      "cell_type": "code",
      "metadata": {
        "id": "oszGO_tyiz8F",
        "colab": {
          "base_uri": "https://localhost:8080/"
        },
        "outputId": "f5228a44-a26d-4dce-c8d6-0541f6e22622"
      },
      "source": [
        "model.fit(train_data, train_labels,epochs=100,validation_split=0.2)"
      ],
      "execution_count": 20,
      "outputs": [
        {
          "output_type": "stream",
          "text": [
            "Epoch 1/100\n",
            "4985/4985 [==============================] - 7s 1ms/step - loss: 0.0278 - accuracy: 0.9988 - val_loss: 0.0082 - val_accuracy: 0.9993\n",
            "Epoch 2/100\n",
            "4985/4985 [==============================] - 6s 1ms/step - loss: 0.0068 - accuracy: 0.9995 - val_loss: 0.0124 - val_accuracy: 0.9993\n",
            "Epoch 3/100\n",
            "4985/4985 [==============================] - 6s 1ms/step - loss: 0.0073 - accuracy: 0.9995 - val_loss: 0.0096 - val_accuracy: 0.9993\n",
            "Epoch 4/100\n",
            "4985/4985 [==============================] - 6s 1ms/step - loss: 0.0062 - accuracy: 0.9995 - val_loss: 0.0079 - val_accuracy: 0.9993\n",
            "Epoch 5/100\n",
            "4985/4985 [==============================] - 6s 1ms/step - loss: 0.0059 - accuracy: 0.9994 - val_loss: 0.0104 - val_accuracy: 0.9994\n",
            "Epoch 6/100\n",
            "4985/4985 [==============================] - 6s 1ms/step - loss: 0.0074 - accuracy: 0.9995 - val_loss: 0.0065 - val_accuracy: 0.9993\n",
            "Epoch 7/100\n",
            "4985/4985 [==============================] - 7s 1ms/step - loss: 0.0065 - accuracy: 0.9994 - val_loss: 0.0071 - val_accuracy: 0.9993\n",
            "Epoch 8/100\n",
            "4985/4985 [==============================] - 6s 1ms/step - loss: 0.0059 - accuracy: 0.9996 - val_loss: 0.0066 - val_accuracy: 0.9994\n",
            "Epoch 9/100\n",
            "4985/4985 [==============================] - 6s 1ms/step - loss: 0.0053 - accuracy: 0.9996 - val_loss: 0.0064 - val_accuracy: 0.9994\n",
            "Epoch 10/100\n",
            "4985/4985 [==============================] - 6s 1ms/step - loss: 0.0052 - accuracy: 0.9995 - val_loss: 0.0089 - val_accuracy: 0.9993\n",
            "Epoch 11/100\n",
            "4985/4985 [==============================] - 6s 1ms/step - loss: 0.0058 - accuracy: 0.9994 - val_loss: 0.0070 - val_accuracy: 0.9993\n",
            "Epoch 12/100\n",
            "4985/4985 [==============================] - 6s 1ms/step - loss: 0.0062 - accuracy: 0.9994 - val_loss: 0.0066 - val_accuracy: 0.9993\n",
            "Epoch 13/100\n",
            "4985/4985 [==============================] - 6s 1ms/step - loss: 0.0053 - accuracy: 0.9995 - val_loss: 0.0068 - val_accuracy: 0.9993\n",
            "Epoch 14/100\n",
            "4985/4985 [==============================] - 6s 1ms/step - loss: 0.0065 - accuracy: 0.9994 - val_loss: 0.0095 - val_accuracy: 0.9993\n",
            "Epoch 15/100\n",
            "4985/4985 [==============================] - 7s 1ms/step - loss: 0.0060 - accuracy: 0.9994 - val_loss: 0.0091 - val_accuracy: 0.9993\n",
            "Epoch 16/100\n",
            "4985/4985 [==============================] - 6s 1ms/step - loss: 0.0063 - accuracy: 0.9994 - val_loss: 0.0106 - val_accuracy: 0.9993\n",
            "Epoch 17/100\n",
            "4985/4985 [==============================] - 6s 1ms/step - loss: 0.0080 - accuracy: 0.9994 - val_loss: 0.0105 - val_accuracy: 0.9994\n",
            "Epoch 18/100\n",
            "4985/4985 [==============================] - 6s 1ms/step - loss: 0.0069 - accuracy: 0.9987 - val_loss: 0.0099 - val_accuracy: 0.9992\n",
            "Epoch 19/100\n",
            "4985/4985 [==============================] - 6s 1ms/step - loss: 0.0081 - accuracy: 0.9989 - val_loss: 0.0086 - val_accuracy: 0.9994\n",
            "Epoch 20/100\n",
            "4985/4985 [==============================] - 6s 1ms/step - loss: 0.0063 - accuracy: 0.9991 - val_loss: 0.0076 - val_accuracy: 0.9994\n",
            "Epoch 21/100\n",
            "4985/4985 [==============================] - 6s 1ms/step - loss: 0.0076 - accuracy: 0.9984 - val_loss: 0.0160 - val_accuracy: 0.9993\n",
            "Epoch 22/100\n",
            "4985/4985 [==============================] - 6s 1ms/step - loss: 0.0066 - accuracy: 0.9989 - val_loss: 0.0066 - val_accuracy: 0.9994\n",
            "Epoch 23/100\n",
            "4985/4985 [==============================] - 6s 1ms/step - loss: 0.0082 - accuracy: 0.9986 - val_loss: 0.0091 - val_accuracy: 0.9994\n",
            "Epoch 24/100\n",
            "4985/4985 [==============================] - 7s 1ms/step - loss: 0.0061 - accuracy: 0.9992 - val_loss: 0.0079 - val_accuracy: 0.9993\n",
            "Epoch 25/100\n",
            "4985/4985 [==============================] - 6s 1ms/step - loss: 0.0063 - accuracy: 0.9992 - val_loss: 0.0087 - val_accuracy: 0.9994\n",
            "Epoch 26/100\n",
            "4985/4985 [==============================] - 7s 1ms/step - loss: 0.0087 - accuracy: 0.9985 - val_loss: 0.0061 - val_accuracy: 0.9994\n",
            "Epoch 27/100\n",
            "4985/4985 [==============================] - 6s 1ms/step - loss: 0.0068 - accuracy: 0.9993 - val_loss: 0.0089 - val_accuracy: 0.9994\n",
            "Epoch 28/100\n",
            "4985/4985 [==============================] - 6s 1ms/step - loss: 0.0059 - accuracy: 0.9992 - val_loss: 0.0079 - val_accuracy: 0.9994\n",
            "Epoch 29/100\n",
            "4985/4985 [==============================] - 6s 1ms/step - loss: 0.0065 - accuracy: 0.9991 - val_loss: 0.0102 - val_accuracy: 0.9992\n",
            "Epoch 30/100\n",
            "4985/4985 [==============================] - 6s 1ms/step - loss: 0.0065 - accuracy: 0.9990 - val_loss: 0.0089 - val_accuracy: 0.9993\n",
            "Epoch 31/100\n",
            "4985/4985 [==============================] - 6s 1ms/step - loss: 0.0065 - accuracy: 0.9992 - val_loss: 0.0095 - val_accuracy: 0.9994\n",
            "Epoch 32/100\n",
            "4985/4985 [==============================] - 6s 1ms/step - loss: 0.0081 - accuracy: 0.9986 - val_loss: 0.0062 - val_accuracy: 0.9993\n",
            "Epoch 33/100\n",
            "4985/4985 [==============================] - 6s 1ms/step - loss: 0.0078 - accuracy: 0.9988 - val_loss: 0.0089 - val_accuracy: 0.9993\n",
            "Epoch 34/100\n",
            "4985/4985 [==============================] - 6s 1ms/step - loss: 0.0082 - accuracy: 0.9979 - val_loss: 0.0149 - val_accuracy: 0.9993\n",
            "Epoch 35/100\n",
            "4985/4985 [==============================] - 6s 1ms/step - loss: 0.0071 - accuracy: 0.9993 - val_loss: 0.0081 - val_accuracy: 0.9993\n",
            "Epoch 36/100\n",
            "4985/4985 [==============================] - 6s 1ms/step - loss: 0.0071 - accuracy: 0.9991 - val_loss: 0.0084 - val_accuracy: 0.9993\n",
            "Epoch 37/100\n",
            "4985/4985 [==============================] - 6s 1ms/step - loss: 0.0063 - accuracy: 0.9991 - val_loss: 0.0075 - val_accuracy: 0.9993\n",
            "Epoch 38/100\n",
            "4985/4985 [==============================] - 6s 1ms/step - loss: 0.0069 - accuracy: 0.9984 - val_loss: 0.0063 - val_accuracy: 0.9993\n",
            "Epoch 39/100\n",
            "4985/4985 [==============================] - 6s 1ms/step - loss: 0.0081 - accuracy: 0.9987 - val_loss: 0.0078 - val_accuracy: 0.9993\n",
            "Epoch 40/100\n",
            "4985/4985 [==============================] - 6s 1ms/step - loss: 0.0070 - accuracy: 0.9987 - val_loss: 0.0089 - val_accuracy: 0.9993\n",
            "Epoch 41/100\n",
            "4985/4985 [==============================] - 6s 1ms/step - loss: 0.0080 - accuracy: 0.9982 - val_loss: 0.0126 - val_accuracy: 0.9994\n",
            "Epoch 42/100\n",
            "4985/4985 [==============================] - 6s 1ms/step - loss: 0.0059 - accuracy: 0.9992 - val_loss: 0.0068 - val_accuracy: 0.9992\n",
            "Epoch 43/100\n",
            "4985/4985 [==============================] - 6s 1ms/step - loss: 0.0083 - accuracy: 0.9976 - val_loss: 0.0088 - val_accuracy: 0.9993\n",
            "Epoch 44/100\n",
            "4985/4985 [==============================] - 6s 1ms/step - loss: 0.0069 - accuracy: 0.9992 - val_loss: 0.0070 - val_accuracy: 0.9994\n",
            "Epoch 45/100\n",
            "4985/4985 [==============================] - 6s 1ms/step - loss: 0.0069 - accuracy: 0.9986 - val_loss: 0.0117 - val_accuracy: 0.9992\n",
            "Epoch 46/100\n",
            "4985/4985 [==============================] - 6s 1ms/step - loss: 0.0065 - accuracy: 0.9987 - val_loss: 0.0133 - val_accuracy: 0.9993\n",
            "Epoch 47/100\n",
            "4985/4985 [==============================] - 7s 1ms/step - loss: 0.0086 - accuracy: 0.9986 - val_loss: 0.0066 - val_accuracy: 0.9993\n",
            "Epoch 48/100\n",
            "4985/4985 [==============================] - 6s 1ms/step - loss: 0.0070 - accuracy: 0.9992 - val_loss: 0.0071 - val_accuracy: 0.9993\n",
            "Epoch 49/100\n",
            "4985/4985 [==============================] - 6s 1ms/step - loss: 0.0061 - accuracy: 0.9992 - val_loss: 0.0087 - val_accuracy: 0.9993\n",
            "Epoch 50/100\n",
            "4985/4985 [==============================] - 6s 1ms/step - loss: 0.0059 - accuracy: 0.9994 - val_loss: 0.0064 - val_accuracy: 0.9993\n",
            "Epoch 51/100\n",
            "4985/4985 [==============================] - 7s 1ms/step - loss: 0.0071 - accuracy: 0.9985 - val_loss: 0.0057 - val_accuracy: 0.9993\n",
            "Epoch 52/100\n",
            "4985/4985 [==============================] - 6s 1ms/step - loss: 0.0074 - accuracy: 0.9979 - val_loss: 0.0064 - val_accuracy: 0.9993\n",
            "Epoch 53/100\n",
            "4985/4985 [==============================] - 6s 1ms/step - loss: 0.0053 - accuracy: 0.9995 - val_loss: 0.0073 - val_accuracy: 0.9992\n",
            "Epoch 54/100\n",
            "4985/4985 [==============================] - 7s 1ms/step - loss: 0.0058 - accuracy: 0.9993 - val_loss: 0.0090 - val_accuracy: 0.9992\n",
            "Epoch 55/100\n",
            "4985/4985 [==============================] - 6s 1ms/step - loss: 0.0065 - accuracy: 0.9993 - val_loss: 0.0069 - val_accuracy: 0.9992\n",
            "Epoch 56/100\n",
            "4985/4985 [==============================] - 6s 1ms/step - loss: 0.0058 - accuracy: 0.9994 - val_loss: 0.0094 - val_accuracy: 0.9993\n",
            "Epoch 57/100\n",
            "4985/4985 [==============================] - 6s 1ms/step - loss: 0.0057 - accuracy: 0.9994 - val_loss: 0.0063 - val_accuracy: 0.9992\n",
            "Epoch 58/100\n",
            "4985/4985 [==============================] - 7s 1ms/step - loss: 0.0043 - accuracy: 0.9995 - val_loss: 0.0071 - val_accuracy: 0.9993\n",
            "Epoch 59/100\n",
            "4985/4985 [==============================] - 6s 1ms/step - loss: 0.0067 - accuracy: 0.9989 - val_loss: 0.0074 - val_accuracy: 0.9993\n",
            "Epoch 60/100\n",
            "4985/4985 [==============================] - 6s 1ms/step - loss: 0.0055 - accuracy: 0.9992 - val_loss: 0.0061 - val_accuracy: 0.9992\n",
            "Epoch 61/100\n",
            "4985/4985 [==============================] - 6s 1ms/step - loss: 0.0065 - accuracy: 0.9988 - val_loss: 0.0062 - val_accuracy: 0.9992\n",
            "Epoch 62/100\n",
            "4985/4985 [==============================] - 6s 1ms/step - loss: 0.0109 - accuracy: 0.9968 - val_loss: 0.0098 - val_accuracy: 0.9993\n",
            "Epoch 63/100\n",
            "4985/4985 [==============================] - 6s 1ms/step - loss: 0.0080 - accuracy: 0.9983 - val_loss: 0.0080 - val_accuracy: 0.9993\n",
            "Epoch 64/100\n",
            "4985/4985 [==============================] - 6s 1ms/step - loss: 0.0091 - accuracy: 0.9981 - val_loss: 0.0095 - val_accuracy: 0.9993\n",
            "Epoch 65/100\n",
            "4985/4985 [==============================] - 7s 1ms/step - loss: 0.0080 - accuracy: 0.9981 - val_loss: 0.0088 - val_accuracy: 0.9993\n",
            "Epoch 66/100\n",
            "4985/4985 [==============================] - 6s 1ms/step - loss: 0.0058 - accuracy: 0.9991 - val_loss: 0.0082 - val_accuracy: 0.9993\n",
            "Epoch 67/100\n",
            "4985/4985 [==============================] - 6s 1ms/step - loss: 0.0064 - accuracy: 0.9991 - val_loss: 0.0074 - val_accuracy: 0.9993\n",
            "Epoch 68/100\n",
            "4985/4985 [==============================] - 6s 1ms/step - loss: 0.0069 - accuracy: 0.9988 - val_loss: 0.0062 - val_accuracy: 0.9993\n",
            "Epoch 69/100\n",
            "4985/4985 [==============================] - 6s 1ms/step - loss: 0.0051 - accuracy: 0.9993 - val_loss: 0.0103 - val_accuracy: 0.9993\n",
            "Epoch 70/100\n",
            "4985/4985 [==============================] - 6s 1ms/step - loss: 0.0058 - accuracy: 0.9994 - val_loss: 0.0060 - val_accuracy: 0.9994\n",
            "Epoch 71/100\n",
            "4985/4985 [==============================] - 6s 1ms/step - loss: 0.0062 - accuracy: 0.9989 - val_loss: 0.0057 - val_accuracy: 0.9993\n",
            "Epoch 72/100\n",
            "4985/4985 [==============================] - 7s 1ms/step - loss: 0.0072 - accuracy: 0.9988 - val_loss: 0.0064 - val_accuracy: 0.9993\n",
            "Epoch 73/100\n",
            "4985/4985 [==============================] - 6s 1ms/step - loss: 0.0063 - accuracy: 0.9995 - val_loss: 0.0059 - val_accuracy: 0.9993\n",
            "Epoch 74/100\n",
            "4985/4985 [==============================] - 7s 1ms/step - loss: 0.0075 - accuracy: 0.9992 - val_loss: 0.0083 - val_accuracy: 0.9993\n",
            "Epoch 75/100\n",
            "4985/4985 [==============================] - 6s 1ms/step - loss: 0.0070 - accuracy: 0.9989 - val_loss: 0.0106 - val_accuracy: 0.9993\n",
            "Epoch 76/100\n",
            "4985/4985 [==============================] - 7s 1ms/step - loss: 0.0062 - accuracy: 0.9990 - val_loss: 0.0055 - val_accuracy: 0.9993\n",
            "Epoch 77/100\n",
            "4985/4985 [==============================] - 7s 1ms/step - loss: 0.0075 - accuracy: 0.9980 - val_loss: 0.0092 - val_accuracy: 0.9993\n",
            "Epoch 78/100\n",
            "4985/4985 [==============================] - 7s 1ms/step - loss: 0.0072 - accuracy: 0.9992 - val_loss: 0.0055 - val_accuracy: 0.9993\n",
            "Epoch 79/100\n",
            "4985/4985 [==============================] - 7s 1ms/step - loss: 0.0075 - accuracy: 0.9987 - val_loss: 0.0073 - val_accuracy: 0.9992\n",
            "Epoch 80/100\n",
            "4985/4985 [==============================] - 6s 1ms/step - loss: 0.0054 - accuracy: 0.9994 - val_loss: 0.0055 - val_accuracy: 0.9993\n",
            "Epoch 81/100\n",
            "4985/4985 [==============================] - 6s 1ms/step - loss: 0.0050 - accuracy: 0.9994 - val_loss: 0.0179 - val_accuracy: 0.9983\n",
            "Epoch 82/100\n",
            "4985/4985 [==============================] - 7s 1ms/step - loss: 0.0064 - accuracy: 0.9994 - val_loss: 0.0087 - val_accuracy: 0.9993\n",
            "Epoch 83/100\n",
            "4985/4985 [==============================] - 7s 1ms/step - loss: 0.0064 - accuracy: 0.9992 - val_loss: 0.0057 - val_accuracy: 0.9993\n",
            "Epoch 84/100\n",
            "4985/4985 [==============================] - 7s 1ms/step - loss: 0.0058 - accuracy: 0.9993 - val_loss: 0.0053 - val_accuracy: 0.9993\n",
            "Epoch 85/100\n",
            "4985/4985 [==============================] - 6s 1ms/step - loss: 0.0059 - accuracy: 0.9994 - val_loss: 0.0070 - val_accuracy: 0.9993\n",
            "Epoch 86/100\n",
            "4985/4985 [==============================] - 7s 1ms/step - loss: 0.0070 - accuracy: 0.9993 - val_loss: 0.0050 - val_accuracy: 0.9993\n",
            "Epoch 87/100\n",
            "4985/4985 [==============================] - 6s 1ms/step - loss: 0.0057 - accuracy: 0.9994 - val_loss: 0.0074 - val_accuracy: 0.9993\n",
            "Epoch 88/100\n",
            "4985/4985 [==============================] - 6s 1ms/step - loss: 0.0068 - accuracy: 0.9987 - val_loss: 0.0055 - val_accuracy: 0.9993\n",
            "Epoch 89/100\n",
            "4985/4985 [==============================] - 6s 1ms/step - loss: 0.0078 - accuracy: 0.9982 - val_loss: 0.0093 - val_accuracy: 0.9994\n",
            "Epoch 90/100\n",
            "4985/4985 [==============================] - 7s 1ms/step - loss: 0.0061 - accuracy: 0.9993 - val_loss: 0.0108 - val_accuracy: 0.9993\n",
            "Epoch 91/100\n",
            "4985/4985 [==============================] - 7s 1ms/step - loss: 0.0073 - accuracy: 0.9992 - val_loss: 0.0061 - val_accuracy: 0.9993\n",
            "Epoch 92/100\n",
            "4985/4985 [==============================] - 7s 1ms/step - loss: 0.0070 - accuracy: 0.9984 - val_loss: 0.0062 - val_accuracy: 0.9993\n",
            "Epoch 93/100\n",
            "4985/4985 [==============================] - 6s 1ms/step - loss: 0.0088 - accuracy: 0.9979 - val_loss: 0.0053 - val_accuracy: 0.9993\n",
            "Epoch 94/100\n",
            "4985/4985 [==============================] - 7s 1ms/step - loss: 0.0102 - accuracy: 0.9967 - val_loss: 0.0060 - val_accuracy: 0.9993\n",
            "Epoch 95/100\n",
            "4985/4985 [==============================] - 7s 1ms/step - loss: 0.0070 - accuracy: 0.9986 - val_loss: 0.0065 - val_accuracy: 0.9992\n",
            "Epoch 96/100\n",
            "4985/4985 [==============================] - 6s 1ms/step - loss: 0.0060 - accuracy: 0.9994 - val_loss: 0.0144 - val_accuracy: 0.9991\n",
            "Epoch 97/100\n",
            "4985/4985 [==============================] - 7s 1ms/step - loss: 0.0100 - accuracy: 0.9987 - val_loss: 0.0055 - val_accuracy: 0.9993\n",
            "Epoch 98/100\n",
            "4985/4985 [==============================] - 7s 1ms/step - loss: 0.0075 - accuracy: 0.9994 - val_loss: 0.0058 - val_accuracy: 0.9993\n",
            "Epoch 99/100\n",
            "4985/4985 [==============================] - 7s 1ms/step - loss: 0.0056 - accuracy: 0.9991 - val_loss: 0.0069 - val_accuracy: 0.9993\n",
            "Epoch 100/100\n",
            "4985/4985 [==============================] - 7s 1ms/step - loss: 0.0081 - accuracy: 0.9986 - val_loss: 0.0070 - val_accuracy: 0.9993\n"
          ],
          "name": "stdout"
        },
        {
          "output_type": "execute_result",
          "data": {
            "text/plain": [
              "<tensorflow.python.keras.callbacks.History at 0x7f62c9b60290>"
            ]
          },
          "metadata": {
            "tags": []
          },
          "execution_count": 20
        }
      ]
    },
    {
      "cell_type": "code",
      "metadata": {
        "id": "B90NB-HMkRKw"
      },
      "source": [
        "#loss, accuracy=model.evaluate(test_data, test_label)"
      ],
      "execution_count": null,
      "outputs": []
    },
    {
      "cell_type": "code",
      "metadata": {
        "id": "fnbdjMtukRHM",
        "colab": {
          "base_uri": "https://localhost:8080/",
          "height": 282
        },
        "outputId": "1d4e71ea-3d9a-41c7-c22b-bc8ec80351ee"
      },
      "source": [
        "model.predict(np.array(test_data.iloc[1,:]).reshape(1,test_data.reshape[1]))"
      ],
      "execution_count": 21,
      "outputs": [
        {
          "output_type": "error",
          "ename": "AttributeError",
          "evalue": "ignored",
          "traceback": [
            "\u001b[0;31m---------------------------------------------------------------------------\u001b[0m",
            "\u001b[0;31mAttributeError\u001b[0m                            Traceback (most recent call last)",
            "\u001b[0;32m<ipython-input-21-d20b9d1b0264>\u001b[0m in \u001b[0;36m<module>\u001b[0;34m()\u001b[0m\n\u001b[0;32m----> 1\u001b[0;31m \u001b[0mmodel\u001b[0m\u001b[0;34m.\u001b[0m\u001b[0mpredict\u001b[0m\u001b[0;34m(\u001b[0m\u001b[0mnp\u001b[0m\u001b[0;34m.\u001b[0m\u001b[0marray\u001b[0m\u001b[0;34m(\u001b[0m\u001b[0mtest_data\u001b[0m\u001b[0;34m.\u001b[0m\u001b[0miloc\u001b[0m\u001b[0;34m[\u001b[0m\u001b[0;36m1\u001b[0m\u001b[0;34m,\u001b[0m\u001b[0;34m:\u001b[0m\u001b[0;34m]\u001b[0m\u001b[0;34m)\u001b[0m\u001b[0;34m.\u001b[0m\u001b[0mreshape\u001b[0m\u001b[0;34m(\u001b[0m\u001b[0;36m1\u001b[0m\u001b[0;34m,\u001b[0m\u001b[0mtest_data\u001b[0m\u001b[0;34m.\u001b[0m\u001b[0mreshape\u001b[0m\u001b[0;34m[\u001b[0m\u001b[0;36m1\u001b[0m\u001b[0;34m]\u001b[0m\u001b[0;34m)\u001b[0m\u001b[0;34m)\u001b[0m\u001b[0;34m\u001b[0m\u001b[0;34m\u001b[0m\u001b[0m\n\u001b[0m",
            "\u001b[0;32m/usr/local/lib/python3.7/dist-packages/pandas/core/generic.py\u001b[0m in \u001b[0;36m__getattr__\u001b[0;34m(self, name)\u001b[0m\n\u001b[1;32m   5139\u001b[0m             \u001b[0;32mif\u001b[0m \u001b[0mself\u001b[0m\u001b[0;34m.\u001b[0m\u001b[0m_info_axis\u001b[0m\u001b[0;34m.\u001b[0m\u001b[0m_can_hold_identifiers_and_holds_name\u001b[0m\u001b[0;34m(\u001b[0m\u001b[0mname\u001b[0m\u001b[0;34m)\u001b[0m\u001b[0;34m:\u001b[0m\u001b[0;34m\u001b[0m\u001b[0;34m\u001b[0m\u001b[0m\n\u001b[1;32m   5140\u001b[0m                 \u001b[0;32mreturn\u001b[0m \u001b[0mself\u001b[0m\u001b[0;34m[\u001b[0m\u001b[0mname\u001b[0m\u001b[0;34m]\u001b[0m\u001b[0;34m\u001b[0m\u001b[0;34m\u001b[0m\u001b[0m\n\u001b[0;32m-> 5141\u001b[0;31m             \u001b[0;32mreturn\u001b[0m \u001b[0mobject\u001b[0m\u001b[0;34m.\u001b[0m\u001b[0m__getattribute__\u001b[0m\u001b[0;34m(\u001b[0m\u001b[0mself\u001b[0m\u001b[0;34m,\u001b[0m \u001b[0mname\u001b[0m\u001b[0;34m)\u001b[0m\u001b[0;34m\u001b[0m\u001b[0;34m\u001b[0m\u001b[0m\n\u001b[0m\u001b[1;32m   5142\u001b[0m \u001b[0;34m\u001b[0m\u001b[0m\n\u001b[1;32m   5143\u001b[0m     \u001b[0;32mdef\u001b[0m \u001b[0m__setattr__\u001b[0m\u001b[0;34m(\u001b[0m\u001b[0mself\u001b[0m\u001b[0;34m,\u001b[0m \u001b[0mname\u001b[0m\u001b[0;34m:\u001b[0m \u001b[0mstr\u001b[0m\u001b[0;34m,\u001b[0m \u001b[0mvalue\u001b[0m\u001b[0;34m)\u001b[0m \u001b[0;34m->\u001b[0m \u001b[0;32mNone\u001b[0m\u001b[0;34m:\u001b[0m\u001b[0;34m\u001b[0m\u001b[0;34m\u001b[0m\u001b[0m\n",
            "\u001b[0;31mAttributeError\u001b[0m: 'DataFrame' object has no attribute 'reshape'"
          ]
        }
      ]
    },
    {
      "cell_type": "code",
      "metadata": {
        "id": "V72pEpBltB0g"
      },
      "source": [
        "x=model.predict(test_data).astype(dtype=\"u8\")\n",
        "x"
      ],
      "execution_count": null,
      "outputs": []
    },
    {
      "cell_type": "code",
      "metadata": {
        "id": "nnzI1ZwSa1k6"
      },
      "source": [
        "x[0:50]"
      ],
      "execution_count": null,
      "outputs": []
    },
    {
      "cell_type": "code",
      "metadata": {
        "id": "xI3Z8tG6tBuI"
      },
      "source": [
        "max(x)  "
      ],
      "execution_count": null,
      "outputs": []
    },
    {
      "cell_type": "code",
      "metadata": {
        "id": "DEjEk1tktBna"
      },
      "source": [
        "test_labels[0:50]"
      ],
      "execution_count": null,
      "outputs": []
    },
    {
      "cell_type": "code",
      "metadata": {
        "id": "EKMCCcxfkRA8"
      },
      "source": [
        ""
      ],
      "execution_count": null,
      "outputs": []
    },
    {
      "cell_type": "code",
      "metadata": {
        "id": "EQNwOBbtkQ9O"
      },
      "source": [
        ""
      ],
      "execution_count": null,
      "outputs": []
    }
  ]
}