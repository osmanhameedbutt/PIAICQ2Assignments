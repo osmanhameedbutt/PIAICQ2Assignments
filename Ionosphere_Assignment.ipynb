{
  "nbformat": 4,
  "nbformat_minor": 0,
  "metadata": {
    "kernelspec": {
      "display_name": "Python 3",
      "language": "python",
      "name": "python3"
    },
    "language_info": {
      "codemirror_mode": {
        "name": "ipython",
        "version": 3
      },
      "file_extension": ".py",
      "mimetype": "text/x-python",
      "name": "python",
      "nbconvert_exporter": "python",
      "pygments_lexer": "ipython3",
      "version": "3.7.3"
    },
    "colab": {
      "name": "06 Ionosphere Assignment - Copy.ipynb",
      "provenance": [],
      "collapsed_sections": []
    }
  },
  "cells": [
    {
      "cell_type": "markdown",
      "metadata": {
        "id": "Ggdb1B9g5q6P"
      },
      "source": [
        "# Assignment: Ionosphere Data Problem\n",
        "\n",
        "### Dataset Description: \n",
        "\n",
        "This radar data was collected by a system in Goose Bay, Labrador. This system consists of a phased array of 16 high-frequency antennas with a total transmitted power on the order of 6.4 kilowatts. See the paper for more details. The targets were free electrons in the ionosphere. \"Good\" radar returns are those showing evidence of some type of structure in the ionosphere. \"Bad\" returns are those that do not; their signals pass through the ionosphere.\n",
        "\n",
        "Received signals were processed using an autocorrelation function whose arguments are the time of a pulse and the pulse number. There were 17 pulse numbers for the Goose Bay system. Instances in this databse are described by 2 attributes per pulse number, corresponding to the complex values returned by the function resulting from the complex electromagnetic signal.\n",
        "\n",
        "### Attribute Information:\n",
        "\n",
        "- All 34 are continuous\n",
        "- The 35th attribute is either \"good\" or \"bad\" according to the definition summarized above. This is a binary classification task.\n",
        "\n",
        " <br><br>\n",
        "\n",
        "<table border=\"1\"  cellpadding=\"6\">\n",
        "\t<tbody>\n",
        "        <tr>\n",
        "\t\t<td bgcolor=\"#DDEEFF\"><p class=\"normal\"><b>Data Set Characteristics:&nbsp;&nbsp;</b></p></td>\n",
        "\t\t<td><p class=\"normal\">Multivariate</p></td>\n",
        "\t\t<td bgcolor=\"#DDEEFF\"><p class=\"normal\"><b>Number of Instances:</b></p></td>\n",
        "\t\t<td><p class=\"normal\">351</p></td>\n",
        "\t\t<td bgcolor=\"#DDEEFF\"><p class=\"normal\"><b>Area:</b></p></td>\n",
        "\t\t<td><p class=\"normal\">Physical</p></td>\n",
        "        </tr>\n",
        "     </tbody>\n",
        "    </table>\n",
        "<table border=\"1\" cellpadding=\"6\">\n",
        "    <tbody>\n",
        "        <tr>\n",
        "            <td bgcolor=\"#DDEEFF\"><p class=\"normal\"><b>Attribute Characteristics:</b></p></td>\n",
        "            <td><p class=\"normal\">Integer,Real</p></td>\n",
        "            <td bgcolor=\"#DDEEFF\"><p class=\"normal\"><b>Number of Attributes:</b></p></td>\n",
        "            <td><p class=\"normal\">34</p></td>\n",
        "            <td bgcolor=\"#DDEEFF\"><p class=\"normal\"><b>Date Donated</b></p></td>\n",
        "            <td><p class=\"normal\">N/A</p></td>\n",
        "        </tr>\n",
        "     </tbody>\n",
        "    </table>\n",
        "<table border=\"1\" cellpadding=\"6\">\t\n",
        "    <tbody>\n",
        "    <tr>\n",
        "\t\t<td bgcolor=\"#DDEEFF\"><p class=\"normal\"><b>Associated Tasks:</b></p></td>\n",
        "\t\t<td><p class=\"normal\">Classification</p></td>\n",
        "\t\t<td bgcolor=\"#DDEEFF\"><p class=\"normal\"><b>Missing Values?</b></p></td>\n",
        "\t\t<td><p class=\"normal\">N/A</p></td>\n",
        "\t\t<td bgcolor=\"#DDEEFF\"><p class=\"normal\"><b>Number of Web Hits:</b></p></td>\n",
        "\t\t<td><p class=\"normal\">N/A</p></td>\n",
        "\t</tr>\n",
        "    </tbody>\n",
        "    </table>"
      ]
    },
    {
      "cell_type": "markdown",
      "metadata": {
        "id": "BZ5r8vYL5q6c"
      },
      "source": [
        "### WORKFLOW :\n",
        "- Load Data\n",
        "- Check Missing Values ( If Exist ; Fill each record with mean of its feature ) or any usless column.\n",
        "- Shuffle the data if needed.\n",
        "- Standardized the Input Variables. **Hint**: Centeralized the data\n",
        "- Split into 60 and 40 ratio.\n",
        "- Encode labels.\n",
        "- Model : 1 hidden layers including 16 unit.\n",
        "- Compilation Step (Note : Its a Binary problem , select loss , metrics according to it)\n",
        "- Train the Model with Epochs (100).\n",
        "- If the model gets overfit tune your model by changing the units , No. of layers , epochs , add dropout layer or add Regularizer according to the need .\n",
        "- Prediction should be > **92%**\n",
        "- Evaluation Step\n",
        "- Prediction\n"
      ]
    },
    {
      "cell_type": "markdown",
      "metadata": {
        "id": "2eegyIs75q6d"
      },
      "source": [
        "# Load Data:\n",
        "[Click Here to Download DataSet](https://github.com/ramsha275/ML_Datasets/blob/main/ionosphere_data.csv)"
      ]
    },
    {
      "cell_type": "code",
      "metadata": {
        "id": "d8Ktv8q6ZYzM"
      },
      "source": [
        "import tensorflow as tf\n",
        "import numpy as np\n",
        "import pandas as pd\n",
        "import matplotlib.pyplot as plt\n",
        "import seaborn as sns\n",
        "from tensorflow.keras import models\n",
        "from tensorflow.keras import layers"
      ],
      "execution_count": 2,
      "outputs": []
    },
    {
      "cell_type": "code",
      "metadata": {
        "id": "U5bbxj0tYKv1",
        "colab": {
          "base_uri": "https://localhost:8080/"
        },
        "outputId": "03ae4654-f0d7-4020-cdd4-01b5c2c64bfe"
      },
      "source": [
        "from google.colab import drive\n",
        "drive.mount ('/content/drive')"
      ],
      "execution_count": 1,
      "outputs": [
        {
          "output_type": "stream",
          "text": [
            "Mounted at /content/drive\n"
          ],
          "name": "stdout"
        }
      ]
    },
    {
      "cell_type": "code",
      "metadata": {
        "id": "wEtfqH_Sa4Zq"
      },
      "source": [
        "df = pd.read_csv('/content/drive/My Drive/Colab Notebooks/Q2Assignments/ionosphere_data.csv')"
      ],
      "execution_count": 25,
      "outputs": []
    },
    {
      "cell_type": "code",
      "metadata": {
        "colab": {
          "base_uri": "https://localhost:8080/",
          "height": 224
        },
        "id": "_alx0kKu1fKI",
        "outputId": "eee26195-8487-4529-de31-28b05d23b80b"
      },
      "source": [
        "df.tail()"
      ],
      "execution_count": 18,
      "outputs": [
        {
          "output_type": "execute_result",
          "data": {
            "text/html": [
              "<div>\n",
              "<style scoped>\n",
              "    .dataframe tbody tr th:only-of-type {\n",
              "        vertical-align: middle;\n",
              "    }\n",
              "\n",
              "    .dataframe tbody tr th {\n",
              "        vertical-align: top;\n",
              "    }\n",
              "\n",
              "    .dataframe thead th {\n",
              "        text-align: right;\n",
              "    }\n",
              "</style>\n",
              "<table border=\"1\" class=\"dataframe\">\n",
              "  <thead>\n",
              "    <tr style=\"text-align: right;\">\n",
              "      <th></th>\n",
              "      <th>feature1</th>\n",
              "      <th>feature2</th>\n",
              "      <th>feature3</th>\n",
              "      <th>feature4</th>\n",
              "      <th>feature5</th>\n",
              "      <th>feature6</th>\n",
              "      <th>feature7</th>\n",
              "      <th>feature8</th>\n",
              "      <th>feature9</th>\n",
              "      <th>feature10</th>\n",
              "      <th>feature11</th>\n",
              "      <th>feature12</th>\n",
              "      <th>feature13</th>\n",
              "      <th>feature14</th>\n",
              "      <th>feature15</th>\n",
              "      <th>feature16</th>\n",
              "      <th>feature17</th>\n",
              "      <th>feature18</th>\n",
              "      <th>feature19</th>\n",
              "      <th>feature20</th>\n",
              "      <th>feature21</th>\n",
              "      <th>feature22</th>\n",
              "      <th>feature23</th>\n",
              "      <th>feature24</th>\n",
              "      <th>feature25</th>\n",
              "      <th>feature26</th>\n",
              "      <th>feature27</th>\n",
              "      <th>feature28</th>\n",
              "      <th>feature29</th>\n",
              "      <th>feature30</th>\n",
              "      <th>feature31</th>\n",
              "      <th>feature32</th>\n",
              "      <th>feature33</th>\n",
              "      <th>feature34</th>\n",
              "      <th>label</th>\n",
              "    </tr>\n",
              "  </thead>\n",
              "  <tbody>\n",
              "    <tr>\n",
              "      <th>346</th>\n",
              "      <td>1</td>\n",
              "      <td>0</td>\n",
              "      <td>0.83508</td>\n",
              "      <td>0.08298</td>\n",
              "      <td>0.73739</td>\n",
              "      <td>-0.14706</td>\n",
              "      <td>0.84349</td>\n",
              "      <td>-0.05567</td>\n",
              "      <td>0.90441</td>\n",
              "      <td>-0.04622</td>\n",
              "      <td>0.89391</td>\n",
              "      <td>0.13130</td>\n",
              "      <td>0.81197</td>\n",
              "      <td>0.06723</td>\n",
              "      <td>0.79307</td>\n",
              "      <td>-0.08929</td>\n",
              "      <td>1.00000</td>\n",
              "      <td>-0.02101</td>\n",
              "      <td>0.96639</td>\n",
              "      <td>0.06618</td>\n",
              "      <td>0.87605</td>\n",
              "      <td>0.01155</td>\n",
              "      <td>0.77521</td>\n",
              "      <td>0.06618</td>\n",
              "      <td>0.95378</td>\n",
              "      <td>-0.04202</td>\n",
              "      <td>0.83479</td>\n",
              "      <td>0.00123</td>\n",
              "      <td>1.00000</td>\n",
              "      <td>0.12815</td>\n",
              "      <td>0.86660</td>\n",
              "      <td>-0.10714</td>\n",
              "      <td>0.90546</td>\n",
              "      <td>-0.04307</td>\n",
              "      <td>g</td>\n",
              "    </tr>\n",
              "    <tr>\n",
              "      <th>347</th>\n",
              "      <td>1</td>\n",
              "      <td>0</td>\n",
              "      <td>0.95113</td>\n",
              "      <td>0.00419</td>\n",
              "      <td>0.95183</td>\n",
              "      <td>-0.02723</td>\n",
              "      <td>0.93438</td>\n",
              "      <td>-0.01920</td>\n",
              "      <td>0.94590</td>\n",
              "      <td>0.01606</td>\n",
              "      <td>0.96510</td>\n",
              "      <td>0.03281</td>\n",
              "      <td>0.94171</td>\n",
              "      <td>0.07330</td>\n",
              "      <td>0.94625</td>\n",
              "      <td>-0.01326</td>\n",
              "      <td>0.97173</td>\n",
              "      <td>0.00140</td>\n",
              "      <td>0.94834</td>\n",
              "      <td>0.06038</td>\n",
              "      <td>0.92670</td>\n",
              "      <td>0.08412</td>\n",
              "      <td>0.93124</td>\n",
              "      <td>0.10087</td>\n",
              "      <td>0.94520</td>\n",
              "      <td>0.01361</td>\n",
              "      <td>0.93522</td>\n",
              "      <td>0.04925</td>\n",
              "      <td>0.93159</td>\n",
              "      <td>0.08168</td>\n",
              "      <td>0.94066</td>\n",
              "      <td>-0.00035</td>\n",
              "      <td>0.91483</td>\n",
              "      <td>0.04712</td>\n",
              "      <td>g</td>\n",
              "    </tr>\n",
              "    <tr>\n",
              "      <th>348</th>\n",
              "      <td>1</td>\n",
              "      <td>0</td>\n",
              "      <td>0.94701</td>\n",
              "      <td>-0.00034</td>\n",
              "      <td>0.93207</td>\n",
              "      <td>-0.03227</td>\n",
              "      <td>0.95177</td>\n",
              "      <td>-0.03431</td>\n",
              "      <td>0.95584</td>\n",
              "      <td>0.02446</td>\n",
              "      <td>0.94124</td>\n",
              "      <td>0.01766</td>\n",
              "      <td>0.92595</td>\n",
              "      <td>0.04688</td>\n",
              "      <td>0.93954</td>\n",
              "      <td>-0.01461</td>\n",
              "      <td>0.94837</td>\n",
              "      <td>0.02004</td>\n",
              "      <td>0.93784</td>\n",
              "      <td>0.01393</td>\n",
              "      <td>0.91406</td>\n",
              "      <td>0.07677</td>\n",
              "      <td>0.89470</td>\n",
              "      <td>0.06148</td>\n",
              "      <td>0.93988</td>\n",
              "      <td>0.03193</td>\n",
              "      <td>0.92489</td>\n",
              "      <td>0.02542</td>\n",
              "      <td>0.92120</td>\n",
              "      <td>0.02242</td>\n",
              "      <td>0.92459</td>\n",
              "      <td>0.00442</td>\n",
              "      <td>0.92697</td>\n",
              "      <td>-0.00577</td>\n",
              "      <td>g</td>\n",
              "    </tr>\n",
              "    <tr>\n",
              "      <th>349</th>\n",
              "      <td>1</td>\n",
              "      <td>0</td>\n",
              "      <td>0.90608</td>\n",
              "      <td>-0.01657</td>\n",
              "      <td>0.98122</td>\n",
              "      <td>-0.01989</td>\n",
              "      <td>0.95691</td>\n",
              "      <td>-0.03646</td>\n",
              "      <td>0.85746</td>\n",
              "      <td>0.00110</td>\n",
              "      <td>0.89724</td>\n",
              "      <td>-0.03315</td>\n",
              "      <td>0.89061</td>\n",
              "      <td>-0.01436</td>\n",
              "      <td>0.90608</td>\n",
              "      <td>-0.04530</td>\n",
              "      <td>0.91381</td>\n",
              "      <td>-0.00884</td>\n",
              "      <td>0.80773</td>\n",
              "      <td>-0.12928</td>\n",
              "      <td>0.88729</td>\n",
              "      <td>0.01215</td>\n",
              "      <td>0.92155</td>\n",
              "      <td>-0.02320</td>\n",
              "      <td>0.91050</td>\n",
              "      <td>-0.02099</td>\n",
              "      <td>0.89147</td>\n",
              "      <td>-0.07760</td>\n",
              "      <td>0.82983</td>\n",
              "      <td>-0.17238</td>\n",
              "      <td>0.96022</td>\n",
              "      <td>-0.03757</td>\n",
              "      <td>0.87403</td>\n",
              "      <td>-0.16243</td>\n",
              "      <td>g</td>\n",
              "    </tr>\n",
              "    <tr>\n",
              "      <th>350</th>\n",
              "      <td>1</td>\n",
              "      <td>0</td>\n",
              "      <td>0.84710</td>\n",
              "      <td>0.13533</td>\n",
              "      <td>0.73638</td>\n",
              "      <td>-0.06151</td>\n",
              "      <td>0.87873</td>\n",
              "      <td>0.08260</td>\n",
              "      <td>0.88928</td>\n",
              "      <td>-0.09139</td>\n",
              "      <td>0.78735</td>\n",
              "      <td>0.06678</td>\n",
              "      <td>0.80668</td>\n",
              "      <td>-0.00351</td>\n",
              "      <td>0.79262</td>\n",
              "      <td>-0.01054</td>\n",
              "      <td>0.85764</td>\n",
              "      <td>-0.04569</td>\n",
              "      <td>0.87170</td>\n",
              "      <td>-0.03515</td>\n",
              "      <td>0.81722</td>\n",
              "      <td>-0.09490</td>\n",
              "      <td>0.71002</td>\n",
              "      <td>0.04394</td>\n",
              "      <td>0.86467</td>\n",
              "      <td>-0.15114</td>\n",
              "      <td>0.81147</td>\n",
              "      <td>-0.04822</td>\n",
              "      <td>0.78207</td>\n",
              "      <td>-0.00703</td>\n",
              "      <td>0.75747</td>\n",
              "      <td>-0.06678</td>\n",
              "      <td>0.85764</td>\n",
              "      <td>-0.06151</td>\n",
              "      <td>g</td>\n",
              "    </tr>\n",
              "  </tbody>\n",
              "</table>\n",
              "</div>"
            ],
            "text/plain": [
              "     feature1  feature2  feature3  ...  feature33  feature34  label\n",
              "346         1         0   0.83508  ...    0.90546   -0.04307      g\n",
              "347         1         0   0.95113  ...    0.91483    0.04712      g\n",
              "348         1         0   0.94701  ...    0.92697   -0.00577      g\n",
              "349         1         0   0.90608  ...    0.87403   -0.16243      g\n",
              "350         1         0   0.84710  ...    0.85764   -0.06151      g\n",
              "\n",
              "[5 rows x 35 columns]"
            ]
          },
          "metadata": {
            "tags": []
          },
          "execution_count": 18
        }
      ]
    },
    {
      "cell_type": "code",
      "metadata": {
        "colab": {
          "base_uri": "https://localhost:8080/"
        },
        "id": "mtPKpeA9373F",
        "outputId": "343c2564-f1e1-41b0-9fc2-e3f9749274f7"
      },
      "source": [
        "df.info"
      ],
      "execution_count": 19,
      "outputs": [
        {
          "output_type": "execute_result",
          "data": {
            "text/plain": [
              "<bound method DataFrame.info of      feature1  feature2  feature3  ...  feature33  feature34  label\n",
              "0           1         0   0.99539  ...    0.18641   -0.45300      g\n",
              "1           1         0   1.00000  ...   -0.13738   -0.02447      b\n",
              "2           1         0   1.00000  ...    0.56045   -0.38238      g\n",
              "3           1         0   1.00000  ...   -0.32382    1.00000      b\n",
              "4           1         0   1.00000  ...   -0.04608   -0.65697      g\n",
              "..        ...       ...       ...  ...        ...        ...    ...\n",
              "346         1         0   0.83508  ...    0.90546   -0.04307      g\n",
              "347         1         0   0.95113  ...    0.91483    0.04712      g\n",
              "348         1         0   0.94701  ...    0.92697   -0.00577      g\n",
              "349         1         0   0.90608  ...    0.87403   -0.16243      g\n",
              "350         1         0   0.84710  ...    0.85764   -0.06151      g\n",
              "\n",
              "[351 rows x 35 columns]>"
            ]
          },
          "metadata": {
            "tags": []
          },
          "execution_count": 19
        }
      ]
    },
    {
      "cell_type": "code",
      "metadata": {
        "colab": {
          "base_uri": "https://localhost:8080/"
        },
        "id": "GhWRvZKu37zW",
        "outputId": "34664ed6-3015-43bb-baf5-1a4ecb9362a3"
      },
      "source": [
        "df.describe"
      ],
      "execution_count": 20,
      "outputs": [
        {
          "output_type": "execute_result",
          "data": {
            "text/plain": [
              "<bound method NDFrame.describe of      feature1  feature2  feature3  ...  feature33  feature34  label\n",
              "0           1         0   0.99539  ...    0.18641   -0.45300      g\n",
              "1           1         0   1.00000  ...   -0.13738   -0.02447      b\n",
              "2           1         0   1.00000  ...    0.56045   -0.38238      g\n",
              "3           1         0   1.00000  ...   -0.32382    1.00000      b\n",
              "4           1         0   1.00000  ...   -0.04608   -0.65697      g\n",
              "..        ...       ...       ...  ...        ...        ...    ...\n",
              "346         1         0   0.83508  ...    0.90546   -0.04307      g\n",
              "347         1         0   0.95113  ...    0.91483    0.04712      g\n",
              "348         1         0   0.94701  ...    0.92697   -0.00577      g\n",
              "349         1         0   0.90608  ...    0.87403   -0.16243      g\n",
              "350         1         0   0.84710  ...    0.85764   -0.06151      g\n",
              "\n",
              "[351 rows x 35 columns]>"
            ]
          },
          "metadata": {
            "tags": []
          },
          "execution_count": 20
        }
      ]
    },
    {
      "cell_type": "code",
      "metadata": {
        "colab": {
          "base_uri": "https://localhost:8080/"
        },
        "id": "OKlDumcS37wN",
        "outputId": "64bdb0ca-2df9-460a-c147-3c5126d7d818"
      },
      "source": [
        "df.isnull().sum()"
      ],
      "execution_count": 24,
      "outputs": [
        {
          "output_type": "execute_result",
          "data": {
            "text/plain": [
              "feature1     0\n",
              "feature2     0\n",
              "feature3     0\n",
              "feature4     0\n",
              "feature5     0\n",
              "feature6     0\n",
              "feature7     0\n",
              "feature8     0\n",
              "feature9     0\n",
              "feature10    0\n",
              "feature11    0\n",
              "feature12    0\n",
              "feature13    0\n",
              "feature14    0\n",
              "feature15    0\n",
              "feature16    0\n",
              "feature17    0\n",
              "feature18    0\n",
              "feature19    0\n",
              "feature20    0\n",
              "feature21    0\n",
              "feature22    0\n",
              "feature23    0\n",
              "feature24    0\n",
              "feature25    0\n",
              "feature26    0\n",
              "feature27    0\n",
              "feature28    0\n",
              "feature29    0\n",
              "feature30    0\n",
              "feature31    0\n",
              "feature32    0\n",
              "feature33    0\n",
              "feature34    0\n",
              "label        0\n",
              "dtype: int64"
            ]
          },
          "metadata": {
            "tags": []
          },
          "execution_count": 24
        }
      ]
    },
    {
      "cell_type": "code",
      "metadata": {
        "id": "NE1ZRrFz8WxI"
      },
      "source": [
        "#There is no missing data in the entire dataset."
      ],
      "execution_count": 26,
      "outputs": []
    },
    {
      "cell_type": "code",
      "metadata": {
        "id": "oZIrWKvdePkH"
      },
      "source": [
        "from sklearn.model_selection import train_test_split"
      ],
      "execution_count": 27,
      "outputs": []
    },
    {
      "cell_type": "code",
      "metadata": {
        "id": "XcOhR-UEePdm"
      },
      "source": [
        ""
      ],
      "execution_count": null,
      "outputs": []
    },
    {
      "cell_type": "code",
      "metadata": {
        "id": "gEVcwtG2ePau"
      },
      "source": [
        ""
      ],
      "execution_count": null,
      "outputs": []
    },
    {
      "cell_type": "code",
      "metadata": {
        "id": "Hq2eO4g9ePXe"
      },
      "source": [
        ""
      ],
      "execution_count": null,
      "outputs": []
    },
    {
      "cell_type": "code",
      "metadata": {
        "id": "IMR5c8ZzePUG"
      },
      "source": [
        ""
      ],
      "execution_count": null,
      "outputs": []
    },
    {
      "cell_type": "code",
      "metadata": {
        "id": "ttzg-XvGePQv"
      },
      "source": [
        ""
      ],
      "execution_count": null,
      "outputs": []
    }
  ]
}